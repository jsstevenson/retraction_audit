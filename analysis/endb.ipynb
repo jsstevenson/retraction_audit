{
 "cells": [
  {
   "cell_type": "markdown",
   "id": "f2ae468c-443a-4077-b859-253e75bc1b62",
   "metadata": {},
   "source": [
    "# Enhancer DB\n",
    "\n",
    "Xuefeng Bai, Shanshan Shi, Bo Ai, Yong Jiang, Yuejuan Liu, Xiaole Han, Mingcong Xu, Qi Pan, Fan Wang, Qiuyu Wang, Jian Zhang, Xuecang Li, Chenchen Feng, Yanyu Li, Yuezhu Wang, Yiwei Song, Ke Feng, Chunquan Li, ENdb: a manually curated database of experimentally supported enhancers for human and mouse, Nucleic Acids Research, Volume 48, Issue D1, 08 January 2020, Pages D51–D57, https://doi.org/10.1093/nar/gkz973 "
   ]
  },
  {
   "cell_type": "code",
   "execution_count": 18,
   "id": "65fe6af4-2673-4c1b-92ea-ae762da87337",
   "metadata": {},
   "outputs": [],
   "source": [
    "from wags_tails import CustomData\n",
    "from wags_tails.utils.downloads import handle_zip, download_http\n",
    "from datetime import datetime, timezone\n",
    "\n",
    "def _latest_version_cb() -> str:\n",
    "    return datetime.now(tz=timezone.utc).strftime(\"%Y%m%d\")\n",
    "\n",
    "def _download_cb(version, outfile_path) -> None:\n",
    "    tqdm_params = {\n",
    "        \"disable\": False,\n",
    "        \"unit\": \"B\",\n",
    "        \"ncols\": 80,\n",
    "        \"unit_divisor\": 1024,\n",
    "        \"unit_scale\": True,\n",
    "    }\n",
    "    download_http(\n",
    "        \"https://bio.liclab.net/ENdb/file/download/ENdb_enhancer.txt\",\n",
    "        outfile_path,\n",
    "        tqdm_params=tqdm_params,\n",
    "    )\n",
    "\n",
    "data_fetcher = CustomData(\n",
    "    \"endb\",\n",
    "    \"txt\",\n",
    "    _latest_version_cb,\n",
    "    _download_cb,\n",
    ")\n",
    "\n",
    "endb_data = data_fetcher.get_latest()"
   ]
  },
  {
   "cell_type": "code",
   "execution_count": 8,
   "id": "7e64c47d-561d-4fae-bd37-345b6c5ce35f",
   "metadata": {},
   "outputs": [],
   "source": [
    "import csv\n",
    "\n",
    "with endb_data[0].open(encoding=\"ISO-8859-1\") as f:\n",
    "    reader = csv.DictReader(f, delimiter=\"\\t\")\n",
    "    rows = list(reader)"
   ]
  },
  {
   "cell_type": "code",
   "execution_count": 13,
   "id": "1e5c773d-9511-464b-ab0e-95b262337f69",
   "metadata": {},
   "outputs": [],
   "source": [
    "from retraction_audit.audit import RetractionLookup\n",
    "import os\n",
    "\n",
    "os.environ[\"RETRACTION_WATCH_EMAIL\"] = \"james.sharpsteen@gmail.com\"\n",
    "\n",
    "retraction_lookup = RetractionLookup(True)"
   ]
  },
  {
   "cell_type": "code",
   "execution_count": 14,
   "id": "5b5579cb-0bdb-40d8-960e-129be9c5d933",
   "metadata": {},
   "outputs": [],
   "source": [
    "retracted_ev = []\n",
    "for row in rows:\n",
    "    pmid = row[\"Pubmed\"]\n",
    "    retraction = retraction_lookup.get_retraction_by_pmid(pmid)\n",
    "    if retraction:\n",
    "        retracted_ev.append((pmid, row, retraction))"
   ]
  },
  {
   "cell_type": "code",
   "execution_count": 17,
   "id": "4aee6748-79c9-49ef-9ffa-cc0e44a1a17e",
   "metadata": {},
   "outputs": [
    {
     "data": {
      "text/plain": [
       "[('20864515',\n",
       "  {'Enhancer_id': 'E_02_008',\n",
       "   'Pubmed': '20864515',\n",
       "   'Enhancer_symbol': '--',\n",
       "   'Reference_genome': 'mm10',\n",
       "   'Chromosome': 'chr6',\n",
       "   'Start_position': '124718594',\n",
       "   'End_position': '124718929',\n",
       "   'Species': 'Mouse',\n",
       "   'Biosample_name': 'Hep G2,NMuLi',\n",
       "   'Experiment_class': 'Low throughput',\n",
       "   'Enhancer_experiment': 'ChIP,Luciferase Reporter Assay',\n",
       "   'Enhancer_tar_ex_De': 'By ChIP, two of these sites bound Prep1 (Fig. 7A; positions nucleotide [nt] ?2,489 to ?2,139, nt ?2,113 to ?1,778), but re-ChIP assays revealed that Pbx1 was simultaneously present only at position nt ?2,113 to ?1,778.To investigate whether this last region features enhancer activity, we subsequently cloned this fragment in the pgl3 basic construct upstream the luciferase gene (pgl3LUC). The construct was then cotransfected in HeLa cells together with the Prep1, Pbx1 cDNAs or both and luciferase activity was measured (Fig. 7B).Prep1 and Pbx1 increased the SHP1 reporter activity, respectively, by 7.1-fold and 6-fold. Simultaneous cotransfection of the two plasmids caused an almost 30-fold induction, indicating SHP1 transcriptional regulation by the Prep1/Pbx1 complex.',\n",
       "   'Enhancer_type': 'Enhancer',\n",
       "   'Target_gene': 'Nr0b2',\n",
       "   'target_gene_strong_experiment': '--',\n",
       "   'target_gene_weak_experiment': 'Luciferase Reporter Assay',\n",
       "   'target_gene_experiment_description': 'lin-dependent IR phosphorylation and glycogen accumulation. Both Prep1 and Pbx1 bind SHP1 promoter at a site located between nucleotides -2,113 and -1,778. This fragment features Enhancer activity and induces luciferase function by 7-, 6-, and 30-fold, respectively,in response to Prep1, Pbx1, or both.',\n",
       "   'target_gene_other_name': 'SHP,SHP-1,Shp1',\n",
       "   'Disease': 'Diabetes Mellitus',\n",
       "   'DO': 'DOID:9351',\n",
       "   'mesh': 'D003920',\n",
       "   'Enhancer_function': 'Both Prep1 and Pbx1 bind SHP1 promoter at a site located between nucleotides -2,113 and -1,778. This fragment features Enhancer activity and induces luciferase function by 7-, 6-, and 30-fold, respectively, in response to Prep1, Pbx1, or both.',\n",
       "   'Enhancer_function_experiment': 'Luciferase Reporter Assay,ChIP',\n",
       "   'En_function_ex_de': 'In these assays, a fragment containing single Prep1/Pbx1 binding site displays a powerful Enhancer function. In addition, ChIp experiments with Prep1 and Pbx1 antibod_x005f_x0002_ies showed that these proteins bind the SHP1 regulatory region, suggesting that SHP1 gene is a target of the Prep1/Pbx1 complex and not just Prep1.',\n",
       "   'TF_name': 'Pknox1,Pbx1',\n",
       "   'TF_other_name': 'D17Wsu76e,PREP1,2310056B04Rik,D230003C07Rik,Pbx-1',\n",
       "   'Experiment': 'Luciferase Reporter Assay,ChIP',\n",
       "   'TF_experiment_de': 'In these assays, a fragment containing single Prep1/Pbx1 binding site displays a powerful Enhancer function. The construct was then cotransfected in HeLa cells together with the Prep1, Pbx1 cDNAs or both and luciferase activity was measured In addition, ChIp experiments with Prep1 and Pbx1 antibodies showed that these proteins bind the SHP1 regulatory region, suggesting that SHP1 gene is a target of the prep1/Pbx1 complex and not just Prep1.',\n",
       "   'SNP_id': '--',\n",
       "   'SNP_position': '--',\n",
       "   'SNP_experiment': '--',\n",
       "   'Distance_from_TSS': '>2KB',\n",
       "   'Distance_from_TSS_AB': '',\n",
       "   'enhancer_MID': '',\n",
       "   'TSS': '',\n",
       "   'n_Distance_from_TSS': '8834613'},\n",
       "  RetractionData(pmid='20864515', doi='10.2337/db10-0860', article_title='Prep1 Controls Insulin Glucoregulatory Function in Liver by Transcriptional Targeting of SHP1 Tyrosine Phosphatase', journal='Diabetes', authors=['Francesco Oriente', 'Salvatore Iovino', 'Serena Cabaro', 'Angela Cassese', 'Elena Longobardi', 'Claudia Miele', 'Paola Ungaro', 'Pietro Formisano', 'Francesco Blasi', 'Francesco Beguinot'], retraction_watch_refs=[], retraction_doi='10.2337/db17-ec2017c', retraction_pmid='29109244', retraction_reasons=['Concerns/Issues About Data', 'Concerns/Issues About Image', 'Investigation by Company/Institution', 'Investigation by Journal/Publisher'], retraction_type=<FlagType.CONCERNED: 'Expression of concern'>))]"
      ]
     },
     "execution_count": 17,
     "metadata": {},
     "output_type": "execute_result"
    }
   ],
   "source": [
    "retracted_ev  # 1 instance"
   ]
  },
  {
   "cell_type": "code",
   "execution_count": null,
   "id": "6be7aa1e-a441-4dbb-a3ba-1ec172fb61a0",
   "metadata": {},
   "outputs": [],
   "source": []
  }
 ],
 "metadata": {
  "kernelspec": {
   "display_name": "retraction",
   "language": "python",
   "name": "retraction"
  },
  "language_info": {
   "codemirror_mode": {
    "name": "ipython",
    "version": 3
   },
   "file_extension": ".py",
   "mimetype": "text/x-python",
   "name": "python",
   "nbconvert_exporter": "python",
   "pygments_lexer": "ipython3",
   "version": "3.12.0"
  }
 },
 "nbformat": 4,
 "nbformat_minor": 5
}
