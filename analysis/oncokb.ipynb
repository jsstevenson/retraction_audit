{
 "cells": [
  {
   "cell_type": "markdown",
   "id": "5947a8ea-1b76-4357-929f-340c1c1ad45c",
   "metadata": {},
   "source": [
    "# OncoKB"
   ]
  },
  {
   "cell_type": "code",
   "execution_count": 1,
   "id": "05db3357-f242-4358-b00b-f8e04ee7ab75",
   "metadata": {},
   "outputs": [],
   "source": [
    "from retraction_audit.audit import RetractionLookup\n",
    "import os\n",
    "\n",
    "os.environ[\"RETRACTION_WATCH_EMAIL\"] = \"james.sharpsteen@gmail.com\"\n",
    "os.environ[\"NCBI_AUTH_EMAIL\"] = \"james.sharpsteen@gmail.com\"\n",
    "\n",
    "lookup = RetractionLookup(True)"
   ]
  },
  {
   "cell_type": "code",
   "execution_count": 3,
   "id": "5de50243-51b7-49b8-a2db-bc1a31f14eb4",
   "metadata": {},
   "outputs": [],
   "source": [
    "from wags_tails import CustomData\n",
    "\n",
    "data_fetcher = CustomData(\n",
    "    \"oncokb\",\n",
    "    \"tsv\",\n",
    "    lambda: \"v3_15\",\n",
    "    lambda version, outfile_path: None,\n",
    ")\n",
    "data_file = data_fetcher.get_latest(from_local=True)[0]"
   ]
  },
  {
   "cell_type": "code",
   "execution_count": 10,
   "id": "976d1552-0e40-4c4e-bd75-23c3ce4f9cc6",
   "metadata": {},
   "outputs": [
    {
     "data": {
      "text/plain": [
       "5068"
      ]
     },
     "execution_count": 10,
     "metadata": {},
     "output_type": "execute_result"
    }
   ],
   "source": [
    "import polars as pl\n",
    "\n",
    "pmids = list(set(\n",
    "    pl.read_csv(\n",
    "        data_file, separator=\"\\t\", ignore_errors=True\n",
    "    )[\"PMIDs for Mutation Effect\"].str.split(\", \").explode()\n",
    "))"
   ]
  },
  {
   "cell_type": "code",
   "execution_count": 11,
   "id": "f3375920-4296-4a33-bafe-a1dd11923de9",
   "metadata": {},
   "outputs": [],
   "source": [
    "retracted_ev = []\n",
    "for pmid in pmids:\n",
    "    retraction_record = lookup.get_retraction_by_pmid(str(pmid))\n",
    "    if retraction_record:\n",
    "        retracted_ev.append(retraction_record)"
   ]
  },
  {
   "cell_type": "code",
   "execution_count": 13,
   "id": "04fecb79-9beb-473b-bad6-34b4edf3cdcd",
   "metadata": {},
   "outputs": [
    {
     "name": "stdout",
     "output_type": "stream",
     "text": [
      "0\n"
     ]
    },
    {
     "data": {
      "text/plain": [
       "[('CIViC', 1, 3667, '2024-03-15T00:03:17.308166+00:00'),\n",
       " ('DGIDB', 20, 11403, '2024-03-15T00:08:13.144921+00:00'),\n",
       " ('PMKB', 0, 1562, '2024-03-15T01:45:21.760435+00:00'),\n",
       " ('PharmGKB', 2, 17150, '2024-03-15T13:35:38.913493+00:00'),\n",
       " ('DOKB', 2, 4318, '2024-03-15T14:38:21.085659+00:00'),\n",
       " ('MOAlmanac', 0, 166, '2024-03-17T00:31:14.361317+00:00'),\n",
       " ('COSMIC', 15, 20600, '2024-03-19T13:15:43.634143+00:00'),\n",
       " ('Gene2Phenotype', 4, 8369, '2024-03-19T13:24:01.323836+00:00'),\n",
       " ('OncoKB', 0, 5068, '2024-03-19T13:24:08.396613+00:00')]"
      ]
     },
     "execution_count": 13,
     "metadata": {},
     "output_type": "execute_result"
    }
   ],
   "source": [
    "print(len(retracted_ev))\n",
    "from tools import store_results, get_latest_results\n",
    "store_results(\"OncoKB\", len(retracted_ev), retracted_ev, len(pmids))\n",
    "get_latest_results()"
   ]
  },
  {
   "cell_type": "code",
   "execution_count": null,
   "id": "db37170d-a717-4424-bb32-bef437f8459b",
   "metadata": {},
   "outputs": [],
   "source": []
  }
 ],
 "metadata": {
  "kernelspec": {
   "display_name": "retraction",
   "language": "python",
   "name": "retraction"
  },
  "language_info": {
   "codemirror_mode": {
    "name": "ipython",
    "version": 3
   },
   "file_extension": ".py",
   "mimetype": "text/x-python",
   "name": "python",
   "nbconvert_exporter": "python",
   "pygments_lexer": "ipython3",
   "version": "3.12.0"
  }
 },
 "nbformat": 4,
 "nbformat_minor": 5
}
