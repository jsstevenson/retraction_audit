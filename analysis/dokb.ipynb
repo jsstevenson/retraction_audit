{
 "cells": [
  {
   "cell_type": "code",
   "execution_count": 2,
   "id": "2dcdc855-9c4b-4c57-b773-6c1f8339e247",
   "metadata": {},
   "outputs": [],
   "source": [
    "from retraction_audit.audit import RetractionLookup\n",
    "import os\n",
    "\n",
    "os.environ[\"RETRACTION_WATCH_EMAIL\"] = \"james.sharpsteen@gmail.com\"\n",
    "\n",
    "lookup = RetractionLookup(True)"
   ]
  },
  {
   "cell_type": "code",
   "execution_count": 6,
   "id": "61da184c-7a83-46d5-ba2a-41f3e8937a33",
   "metadata": {},
   "outputs": [],
   "source": [
    "import csv\n",
    "\n",
    "with open(\"/Users/jamesstevenson/Downloads/do_sparql_results.csv\") as f:\n",
    "    reader = list(csv.DictReader(f))\n",
    "\n",
    "retracted_ev = []\n",
    "\n",
    "pmids = set()\n",
    "for row in reader:\n",
    "    pmid = row[\"pubmed_src\"].split(\"/\")[-1]\n",
    "    pmids.add(pmid)\n",
    "\n",
    "for pmid in pmids:\n",
    "    retraction = lookup.get_retraction_by_pmid(pmid)\n",
    "    if not retraction:\n",
    "        retraction = lookup.get_retraction_by_doi(pmid)\n",
    "    if retraction:\n",
    "        retracted_ev.append(retraction)"
   ]
  },
  {
   "cell_type": "code",
   "execution_count": 5,
   "id": "d6c38194-fa91-49dc-b44f-c2bcf700b03c",
   "metadata": {},
   "outputs": [
    {
     "name": "stdout",
     "output_type": "stream",
     "text": [
      "2\n"
     ]
    }
   ],
   "source": [
    "print(len(retracted_ev))\n",
    "from tools import store_results\n",
    "store_results(\"DOKB\", len(retracted_ev), retracted_ev, len(pmids))"
   ]
  },
  {
   "cell_type": "code",
   "execution_count": null,
   "id": "71e50d89-5b82-4512-9c6c-29fb1bc0e94c",
   "metadata": {},
   "outputs": [],
   "source": []
  }
 ],
 "metadata": {
  "kernelspec": {
   "display_name": "retraction",
   "language": "python",
   "name": "retraction"
  },
  "language_info": {
   "codemirror_mode": {
    "name": "ipython",
    "version": 3
   },
   "file_extension": ".py",
   "mimetype": "text/x-python",
   "name": "python",
   "nbconvert_exporter": "python",
   "pygments_lexer": "ipython3",
   "version": "3.12.0"
  }
 },
 "nbformat": 4,
 "nbformat_minor": 5
}
