{
 "cells": [
  {
   "cell_type": "code",
   "execution_count": 7,
   "id": "0322eb30-3759-4a63-b435-70a223c494c0",
   "metadata": {},
   "outputs": [],
   "source": [
    "import asyncio\n",
    "\n",
    "from gql import Client, gql\n",
    "from gql.transport.aiohttp import AIOHTTPTransport\n",
    "\n",
    "pmids = set()\n",
    "\n",
    "\n",
    "async def get_all_pmids():\n",
    "\n",
    "    transport = AIOHTTPTransport(url=\"https://dgidb.org/api/graphql\")\n",
    "    cursor = \"\"\n",
    "\n",
    "    async with Client(\n",
    "        transport=transport,\n",
    "        fetch_schema_from_transport=True,\n",
    "    ) as session:\n",
    "        query = gql(\n",
    "            \"\"\"\n",
    "            query ($cursor:String!) {\n",
    "              drugs(after:$cursor, last:20) {\n",
    "                edges {\n",
    "                  cursor\n",
    "                  node {\n",
    "                    interactions {\n",
    "                      interactionClaims {\n",
    "                        source {\n",
    "                          sourceDbName\n",
    "                        }\n",
    "                        publications {\n",
    "                          pmid\n",
    "                        }\n",
    "                      }\n",
    "                    }\n",
    "                  }\n",
    "                }\n",
    "              }\n",
    "            }            \n",
    "            \"\"\"\n",
    "        )\n",
    "        while True:\n",
    "            result = await session.execute(query, variable_values={\"cursor\": cursor})\n",
    "            if len(result[\"drugs\"][\"edges\"]) == 0:\n",
    "                break\n",
    "            for edge in result[\"drugs\"][\"edges\"]:\n",
    "                cursor = edge[\"cursor\"]\n",
    "                for interaction in edge[\"node\"][\"interactions\"]:\n",
    "                    for interaction_claim in interaction[\"interactionClaims\"]:\n",
    "                    for pub in interaction[\"publications\"]:\n",
    "                        pmids.add(str(pub[\"pmid\"]))\n",
    "\n",
    "await get_all_pmids()"
   ]
  },
  {
   "cell_type": "code",
   "execution_count": 8,
   "id": "e692d85a-f008-455e-af8e-bbacb70e14c9",
   "metadata": {},
   "outputs": [],
   "source": [
    "from retraction_audit.audit import RetractionLookup\n",
    "import os\n",
    "\n",
    "os.environ[\"RETRACTION_WATCH_EMAIL\"] = \"james.sharpsteen@gmail.com\"\n",
    "\n",
    "lookup = RetractionLookup(True)"
   ]
  },
  {
   "cell_type": "code",
   "execution_count": 9,
   "id": "d78d5bf4-ab09-45fe-a814-caafa61cb1d3",
   "metadata": {},
   "outputs": [],
   "source": [
    "retractions = []\n",
    "for pmid in pmids:\n",
    "    retraction_record = lookup.get_retraction_by_pmid(pmid)\n",
    "    if retraction_record:\n",
    "        retractions.append(retraction_record)"
   ]
  },
  {
   "cell_type": "code",
   "execution_count": 10,
   "id": "4948c8ed-e68a-4abd-9e0a-ee51c8584f54",
   "metadata": {},
   "outputs": [
    {
     "data": {
      "text/plain": [
       "20"
      ]
     },
     "execution_count": 10,
     "metadata": {},
     "output_type": "execute_result"
    }
   ],
   "source": [
    "len(retractions)"
   ]
  },
  {
   "cell_type": "code",
   "execution_count": 11,
   "id": "ca7721bc-3b3b-4c4f-a697-9875cbc628d0",
   "metadata": {},
   "outputs": [
    {
     "data": {
      "text/plain": [
       "[RetractionData(pmid='11234890', doi='unavailable', article_title='Cotreatment with STI-571 Enhances Tumor Necrosis Factor a-related Apoptosis-inducing Ligand (TRAIL or Apo-2L)â\\x80\\x93induced Apoptosis of Bcr-Ablâ\\x80\\x93positive Human Acute Leukemia Cells', journal='Clinical Cancer Research: An Official Journal of the American Association for Cancer Research', authors=['Ramadevi Nimmanapalli', 'Mercedes Porosnicu', 'Diep Nguyen', 'Elizabeth Worthington', 'Erica Oâ\\x80\\x99Bryan', 'Charles Perkins', 'Kapil N Bhalla'], retraction_watch_refs=[], retraction_doi='10.1158/1078-0432.CCR-19-1602', retraction_pmid='31263034', retraction_reasons=['Duplication of Image', 'Original Data not Provided'], retraction_type=<FlagType.CONCERNED: 'Expression of concern'>),\n",
       " RetractionData(pmid='17125593', doi='10.1111/j.1582-4934.2006.tb00533.x', article_title='Differential proteomic profiling to study the mechanism of cardiac pharmacological preconditioning by resveratrol', journal='Journal of Cellular and Molecular Medicine (JCMM)', authors=['Karel Bezstarosti', 'Samarjit Das', 'Jos MJ Lamers', 'Dipak K Das'], retraction_watch_refs=['http://retractionwatch.com/2012/11/29/odd-retractions-18-and-19-for-dipak-das-and-a-new-paper-in-the-same-journal-as-if-nothing-were-amiss/', 'http://retractionwatch.com/category/by-author/dipak-das/'], retraction_doi='10.1111/j.1582-4934.2012.01620.x', retraction_pmid='23189335', retraction_reasons=['Falsification/Fabrication of Data', 'Investigation by Company/Institution', 'Misconduct - Official Investigation/Finding', 'Misconduct by Author'], retraction_type=<FlagType.RETRACTED: 'Retraction'>),\n",
       " RetractionData(pmid='16646082', doi='10.1002/ijc.22031', article_title='Docosahexaenoic Acid in Combination With Celecoxib Modulates HSP70 and p53 Proteins in Prostate Cancer Cells', journal='International Journal of Cancer', authors=['Narayanan K Narayanan', 'Bhagavathi A Narayanan', 'Maarten Bosland', 'Mark S Condon', 'Dominick Nargi'], retraction_watch_refs=['http://retractionwatch.com/2016/02/23/we-are-living-in-hell-authors-retract-2nd-paper-due-to-missing-raw-data/'], retraction_doi='10.1002/ijc.29941', retraction_pmid='26853534', retraction_reasons=['Concerns/Issues About Data', 'Duplication of Image', 'Error in Image'], retraction_type=<FlagType.RETRACTED: 'Retraction'>),\n",
       " RetractionData(pmid='18381294', doi='10.1074/jbc.M708933200', article_title='Involvement of Hypoxia-inducing Factor-1 Alpha-dependent Plasminogen Activator Inhibitor-1 up-regulation in Cyr61/CCN1-induced Gastric Cancer Cell Invasion', journal='The Journal of Biological Chemistry', authors=['Ming-Tsan Lin', 'I-Hsin Kuo', 'Cheng-Chi Chang', 'Chia-Yu Chu', 'Hsing-Yu Chen', 'Been-Ren Lin', 'Munisamy Sureshbabu', 'Hou-Jung Shih', 'Min-Liang Kuo'], retraction_watch_refs=['http://retractionwatch.com/2017/01/04/prominent-researcher-taiwan-loses-another-paper-image-duplication/', 'http://retractionwatch.com/?s=Min-Liang+Kuo'], retraction_doi='10.1074/jbc.A116.708933', retraction_pmid='28039333', retraction_reasons=['Duplication of Image', 'Error in Image', 'Euphemisms for Duplication', 'Investigation by Company/Institution'], retraction_type=<FlagType.RETRACTED: 'Retraction'>),\n",
       " RetractionData(pmid='12968031', doi='10.1074/jbc.M306925200', article_title='Thrombin activation of factor XI on activated platelets requires the interaction of factor XI and platelet glycoprotein Ib alpha with thrombin anion-binding exosites I and II, respectively', journal='The Journal of Biological Chemistry', authors=['Thomas H Yun', 'Frank A Baglia', 'Timothy Myles', 'Duraiswamy Navaneetham', 'Jose A Lopez', 'Peter N Walsh', 'Lawrence LK Leung'], retraction_watch_refs=[], retraction_doi='10.1016/S0021-9258(20)58642-0', retraction_pmid='17939193', retraction_reasons=['Objections by Author(s)', 'Results Not Reproducible'], retraction_type=<FlagType.RETRACTED: 'Retraction'>),\n",
       " RetractionData(pmid='14762204', doi='10.1093/nar/gkh243', article_title='Involvement of Hus1 in the chain elongation step of DNA replication after exposure to camptothecin or ionizing radiation', journal='Nucleic Acids Research', authors=['Xiang Wang', 'Jun Guan', 'Baocheng Hu', 'Robert S Weiss', 'George Iliakis', 'Ya Wang'], retraction_watch_refs=[], retraction_doi='10.1093/nar/gkaa119', retraction_pmid='32095815', retraction_reasons=['Duplication of Image'], retraction_type=<FlagType.RETRACTED: 'Retraction'>),\n",
       " RetractionData(pmid='17207088', doi='10.1111/j.1600-0463.2006.apm_372.x', article_title='Advanced Glycation End Products Induce Actin Rearrangement and Subsequent Hyperpermeability of Endothelial Cells', journal='APMIS: Acta Pathologica, Microbiologica, et Immunologica Scandinavica', authors=['Xiao-Hua Guo', 'Qiao-Bing Huang', 'Bo Chen', 'Shu-Yun Wang', 'Qiang Li', 'Yan-Jun Zhu', 'Fan-Fan Hou', 'Ning Fu', 'Ulf T Brunk', 'Ming Zhao'], retraction_watch_refs=[], retraction_doi='10.1111/j.1600-0463.2009.02464.x', retraction_pmid='19594496', retraction_reasons=['Duplication of Data'], retraction_type=<FlagType.RETRACTED: 'Retraction'>),\n",
       " RetractionData(pmid='15899874', doi='10.1128/MCB.25.11.4727-4741.2005', article_title='5-Aza-Deoxycytidine Induces Selective Degradation of DNA Methyltransferase 1 by a Proteasomal Pathway That Requires the KEN Box, Bromo-Adjacent Homology Domain, and Nuclear Localization Signal', journal='Molecular and Cellular Biology', authors=['Kalpana Ghoshal', 'Jharna Datta', 'Sarmila Majumder', 'Shoumei Bai', 'Huban Kutay', 'Tasneem Motiwala', 'Samson T Jacob'], retraction_watch_refs=['http://retractionwatch.com/2018/08/17/cancer-researcher-at-osu-up-to-nine-retractions/'], retraction_doi='10.1128/mcb.00546-21', retraction_pmid='35412342', retraction_reasons=['Falsification/Fabrication of Data', 'Investigation by Company/Institution', 'Misconduct - Official Investigation/Finding', 'Upgrade/Update of Prior Notice'], retraction_type=<FlagType.RETRACTED: 'Retraction'>),\n",
       " RetractionData(pmid='16767085', doi='10.1038/nchembio800', article_title='Small molecule-based reversible reprogramming of cellular lifespan', journal='Nature Chemical Biology', authors=['Jaejoon Won', 'Mina Kim', 'Nuri Kim', 'Jin Hee Ahn', 'Woo Gil Lee', 'Sung Soo Kim', 'Ki Young Chang', 'Yong Weon Yi', 'Tae Kook Kim'], retraction_watch_refs=[], retraction_doi='10.1038/nchembio0708-431', retraction_pmid='18560433', retraction_reasons=['Error in Text', 'Falsification/Fabrication of Data', 'Investigation by Company/Institution', 'Results Not Reproducible'], retraction_type=<FlagType.RETRACTED: 'Retraction'>),\n",
       " RetractionData(pmid='14678567', doi='10.1186/1477-7827-1-125', article_title='Gonadotropin releasing hormone analogue (GnRHa) alters the expression and activation of Smad in human endometrial epithelial and stromal cells', journal='Reproductive Biology and Endocrinology (RB&E)', authors=['Xiaoping Luo', 'Jingxia Xu', 'Nasser Chegini'], retraction_watch_refs=['http://retractionwatch.com/2015/04/27/former-florida-ob-gyn-prof-notches-eighth-retraction/', 'http://retractionwatch.com/2017/08/01/investigation-started-least-5-years-ago-retired-ob-gyn-prof-agrees-5-years-supervision/'], retraction_doi='10.1186/s12958-015-0016-1', retraction_pmid='25879939', retraction_reasons=['Falsification/Fabrication of Data', 'Investigation by ORI'], retraction_type=<FlagType.RETRACTED: 'Retraction'>),\n",
       " RetractionData(pmid='16951239', doi='10.1158/1078-0432.CCR-06-0429', article_title='Antitumor Effects of a Novel Phenylbutyrate-based Histone Deacetylase Inhibitor, (S)-HDAC-42, in Prostate Cancer', journal='Clinical Cancer Research: An Official Journal of the American Association for Cancer Research', authors=['Samuel K Kulp', 'Chang Shi Chen', 'Da Sheng Wang', 'Ching Yu Chen', 'Ching Shih Chen'], retraction_watch_refs=['http://retractionwatch.com/2020/02/25/researcher-formerly-of-osu-and-taiwans-academia-sinica-gets-10-year-ban/'], retraction_doi='10.1158/1078-0432.CCR-19-0731', retraction_pmid='31043388', retraction_reasons=['Falsification/Fabrication of Data', 'Investigation by Company/Institution', 'Misconduct - Official Investigation/Finding', 'Misconduct by Author'], retraction_type=<FlagType.RETRACTED: 'Retraction'>),\n",
       " RetractionData(pmid='16513647', doi='10.1074/jbc.M511198200', article_title='Phosphorylation of Tyrosine 568 Controls Nuclear Export of Nrf2', journal='The Journal of Biological Chemistry', authors=['Abhinav K Jain', 'Anil K Jaiswal'], retraction_watch_refs=['http://retractionwatch.com/2017/02/06/cancer-researcher-logs-6-retractions-bringing-total-10/', 'http://retractionwatch.com/category/by-author/anil-jaiswal/'], retraction_doi='10.1074/jbc.A117.511198', retraction_pmid='28159764', retraction_reasons=['Investigation by Company/Institution', 'Manipulation of Images', 'Unreliable Data', 'Unreliable Image', 'Unreliable Results'], retraction_type=<FlagType.RETRACTED: 'Retraction'>),\n",
       " RetractionData(pmid='12845662', doi='10.1002/ijc.11239', article_title='Enhanced susceptibility of oral squamous cell carcinoma cell lines to FAS-mediated apoptosis by cisplatin and 5-fluorouracil', journal='International Journal of Cancer', authors=['Masayasu Iwase', 'Hitoshi Watanabe', 'Gen Kondo', 'Masaru Ohashi', 'Masao Nagumo'], retraction_watch_refs=['https://retractionwatch.com/2023/01/11/japanese-university-asks-surgeon-to-retract-eight-fraudulent-papers/'], retraction_doi='10.1002/ijc.33825', retraction_pmid='34704614', retraction_reasons=['Concerns/Issues About Data', 'Concerns/Issues About Image', 'Updated to Retraction'], retraction_type=<FlagType.CONCERNED: 'Expression of concern'>),\n",
       " RetractionData(pmid='17223697', doi='10.1021/bi062184l', article_title='Molecular understanding of Abeta peptide interaction with isoflurane, propofol, and thiopental: NMR spectroscopic study', journal='Biochemistry', authors=['Pravat K Mandal', 'John P Williams', 'Ratna Mandal'], retraction_watch_refs=[], retraction_doi='10.1021/bi701519z', retraction_pmid='17935358', retraction_reasons=['Error in Data', 'Error in Results and/or Conclusions'], retraction_type=<FlagType.RETRACTED: 'Retraction'>),\n",
       " RetractionData(pmid='20170185', doi='10.1021/jm901773d', article_title='Development of Novel Adenosine Monophosphate-Activated Protein Kinase Activators', journal='Journal of Medicinal Chemistry', authors=['Jih Hwa Guh', 'Wei Ling Chang', 'Jian Yang', 'Su Lin Lee', 'Shuo Wei', 'Dasheng Wang', 'Samuel K Kulp', 'Ching Shih Chen'], retraction_watch_refs=['http://retractionwatch.com/2018/03/30/ohio-state-just-released-a-75-page-report-finding-misconduct-by-a-cancer-researcher-what-can-we-learn/', 'http://retractionwatch.com/2020/02/25/researcher-formerly-of-osu-and-taiwans-academia-sinica-gets-10-year-ban/'], retraction_doi='10.1021/acs.jmedchem.8b00707', retraction_pmid='29772897', retraction_reasons=['Falsification/Fabrication of Image', 'Investigation by Company/Institution', 'Misconduct - Official Investigation/Finding', 'Misconduct by Author'], retraction_type=<FlagType.RETRACTED: 'Retraction'>),\n",
       " RetractionData(pmid='21657271', doi='10.1021/jm2001663', article_title='Collateral Sensitivity of Multidrug-Resistant Cells to the Orphan Drug Tiopronin', journal='Journal of Medicinal Chemistry', authors=['Andrew S Goldsborough', 'Misty D Handley', 'Andres E Dulcey', 'Kristen M Pluchino', 'Pavitra Kannan', 'Kyle R Brimacombe', 'Matthew D Hall', 'Gary Griffiths', 'Michael M Gottesman'], retraction_watch_refs=[], retraction_doi='10.1021/acs.jmedchem.9b01794', retraction_pmid='32013420', retraction_reasons=['Contamination of Cell Lines/Tissues'], retraction_type=<FlagType.RETRACTED: 'Retraction'>),\n",
       " RetractionData(pmid='15297437', doi='10.1210/en.2004-0524', article_title='Mechanisms of Hemorrhage-Induced Hepatic Insulin Resistance: Role of Tumor Necrosis Factor-Î±', journal='Endocrinology', authors=['Yuchen Ma', 'Balazs Toth', 'Adam B Keeton', 'Lawanda T Holland', 'Irshad H Chaudry', 'Joseph L Messina'], retraction_watch_refs=[], retraction_doi='10.1210/endocr/bqab124', retraction_pmid='34339489', retraction_reasons=['Concerns/Issues About Image', 'Duplication of Image'], retraction_type=<FlagType.RETRACTED: 'Retraction'>),\n",
       " RetractionData(pmid='9492007', doi='10.1016/S1074-7613(00)80478-1', article_title='The Fas/Fas ligand pathway and Bcl-2 regulate T cell responses to model self and foreign antigens', journal='Immunity', authors=['Luk Van Parijs', 'Daniel A Peterson', 'Abul K Abbas'], retraction_watch_refs=[], retraction_doi='10.1016/j.immuni.2009.04.001', retraction_pmid='19378493', retraction_reasons=['Duplication of Image'], retraction_type=<FlagType.RETRACTED: 'Retraction'>),\n",
       " RetractionData(pmid='10590051', doi='unavailable', article_title='Distinct roles of JNKs/p38 MAP kinase and ERKs in apoptosis and survival of HCD-57 cells induced by withdrawal or addition of erythropoietin', journal='Blood', authors=['Rujiao Shan', 'James O Price', 'William A Gaarde', 'Brett P Monia', 'Sanford B Krantz', 'Zhizhuang Joe Zhao'], retraction_watch_refs=[], retraction_doi='unavailable', retraction_pmid='11873810', retraction_reasons=['Concerns/Issues About Data', 'Duplication of Data'], retraction_type=<FlagType.RETRACTED: 'Retraction'>),\n",
       " RetractionData(pmid='15901726', doi='10.1074/jbc.M502083200', article_title='Nuclear import and export signals in control of Nrf2', journal='The Journal of Biological Chemistry', authors=['Abhinav K Jain', 'David A Bloom', 'Anil K Jaiswal'], retraction_watch_refs=['http://retractionwatch.com/2017/02/06/cancer-researcher-logs-6-retractions-bringing-total-10/'], retraction_doi='10.1074/jbc.A117.502083', retraction_pmid='28159765', retraction_reasons=['Investigation by Company/Institution', 'Manipulation of Images'], retraction_type=<FlagType.RETRACTED: 'Retraction'>)]"
      ]
     },
     "execution_count": 11,
     "metadata": {},
     "output_type": "execute_result"
    }
   ],
   "source": [
    "retractions"
   ]
  },
  {
   "cell_type": "code",
   "execution_count": 12,
   "id": "1f90ac3b-69f9-4631-a0fa-be659ea764dd",
   "metadata": {},
   "outputs": [],
   "source": [
    "from tools import store_results\n",
    "store_results(\"DGIDB\", len(retractions), retractions, len(pmids))"
   ]
  }
 ],
 "metadata": {
  "kernelspec": {
   "display_name": "retraction",
   "language": "python",
   "name": "retraction"
  },
  "language_info": {
   "codemirror_mode": {
    "name": "ipython",
    "version": 3
   },
   "file_extension": ".py",
   "mimetype": "text/x-python",
   "name": "python",
   "nbconvert_exporter": "python",
   "pygments_lexer": "ipython3",
   "version": "3.12.0"
  }
 },
 "nbformat": 4,
 "nbformat_minor": 5
}
