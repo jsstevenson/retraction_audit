{
 "cells": [
  {
   "cell_type": "code",
   "execution_count": 1,
   "id": "578696ab-1610-4777-973f-75673e3050cb",
   "metadata": {},
   "outputs": [],
   "source": [
    "from retraction_audit.audit import RetractionLookup\n",
    "import os\n",
    "\n",
    "os.environ[\"RETRACTION_WATCH_EMAIL\"] = \"james.sharpsteen@gmail.com\"\n",
    "\n",
    "lookup = RetractionLookup(True)"
   ]
  },
  {
   "cell_type": "code",
   "execution_count": 2,
   "id": "f7465824-be62-43d0-b4b2-51b33878ae83",
   "metadata": {},
   "outputs": [],
   "source": [
    "from civicpy import civic\n",
    "evidence = civic.get_all_evidence()"
   ]
  },
  {
   "cell_type": "code",
   "execution_count": 4,
   "id": "0b3eb19e-fc32-4cb6-9f60-6e9f8c487994",
   "metadata": {},
   "outputs": [],
   "source": [
    "retracted_ev = []\n",
    "\n",
    "pmids = {ev_item.source.citation_id for ev_item in evidence}\n",
    "\n",
    "for pmid in pmids:\n",
    "    retraction = lookup.get_retraction_by_pmid(pmid)\n",
    "    if not retraction:\n",
    "        retraction = lookup.get_retraction_by_doi(pmid)\n",
    "    if retraction:\n",
    "        retracted_ev.append(retraction)"
   ]
  },
  {
   "cell_type": "code",
   "execution_count": 5,
   "id": "9188af48-ef2f-4ca2-a7f0-a1dcdc8b0689",
   "metadata": {
    "scrolled": true
   },
   "outputs": [
    {
     "name": "stdout",
     "output_type": "stream",
     "text": [
      "1\n"
     ]
    }
   ],
   "source": [
    "print(len(retracted_ev))"
   ]
  },
  {
   "cell_type": "code",
   "execution_count": 6,
   "id": "513ea14c-ea8f-497b-9233-70813147d401",
   "metadata": {},
   "outputs": [
    {
     "name": "stdout",
     "output_type": "stream",
     "text": [
      "RetractionData(pmid='25961751', doi='10.1371/journal.pone.0124428', article_title='MiR-144 Inhibits Uveal Melanoma Cell Proliferation and Invasion by Regulating c-Met Expression', journal='PLoS One', authors=['Lei Sun', 'Guangqing Bian', 'ZhaoJun Meng', 'Guangfu Dang', 'DeJing Shi', 'Shuyong Mi'], retraction_watch_refs=[], retraction_doi='10.1371/journal.pone.0274144', retraction_pmid='36044518', retraction_reasons=['Concerns/Issues About Authorship', 'Concerns/Issues About Results', 'Euphemisms for Plagiarism', 'Plagiarism of Image'], retraction_type=<FlagType.RETRACTED: 'Retraction'>)\n"
     ]
    }
   ],
   "source": [
    "for retraction in retracted_ev:\n",
    "    print(retraction)"
   ]
  },
  {
   "cell_type": "code",
   "execution_count": 7,
   "id": "252151e9-4fed-4a10-8664-ea638ea49083",
   "metadata": {},
   "outputs": [],
   "source": [
    "from tools import store_results\n",
    "store_results(\"CIViC\", len(retracted_ev), retracted_ev, len(pmids))"
   ]
  },
  {
   "cell_type": "markdown",
   "id": "8581d6c7-2163-4582-b356-32a2df5708ec",
   "metadata": {},
   "source": [
    "**Note**: it wasn't an accepted evidence item anyway"
   ]
  },
  {
   "cell_type": "code",
   "execution_count": 11,
   "id": "9977fc93-cdc3-4453-873a-e00d3f05cfd4",
   "metadata": {},
   "outputs": [
    {
     "name": "stdout",
     "output_type": "stream",
     "text": [
      "<CIViC evidence 1582>\n",
      "rejected\n"
     ]
    }
   ],
   "source": [
    "retracted_ev_item = [e for e in evidence if e.source.citation_id == '25961751'][0]\n",
    "print(retracted_ev_item)\n",
    "print(retracted_ev_item.status)"
   ]
  },
  {
   "cell_type": "code",
   "execution_count": null,
   "id": "125f8920-b9dc-4242-aec5-81a0a1ad55c3",
   "metadata": {},
   "outputs": [],
   "source": []
  }
 ],
 "metadata": {
  "kernelspec": {
   "display_name": "retraction",
   "language": "python",
   "name": "retraction"
  },
  "language_info": {
   "codemirror_mode": {
    "name": "ipython",
    "version": 3
   },
   "file_extension": ".py",
   "mimetype": "text/x-python",
   "name": "python",
   "nbconvert_exporter": "python",
   "pygments_lexer": "ipython3",
   "version": "3.12.0"
  }
 },
 "nbformat": 4,
 "nbformat_minor": 5
}
