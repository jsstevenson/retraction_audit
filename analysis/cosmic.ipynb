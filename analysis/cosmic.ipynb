{
 "cells": [
  {
   "cell_type": "markdown",
   "id": "3dd1eb85-0b53-40de-8002-bc03d2c2c9ca",
   "metadata": {},
   "source": [
    "# COSMIC\n",
    "\n",
    "### TODO\n",
    "\n",
    " * Get downloads working -- it's kinda crazy"
   ]
  },
  {
   "cell_type": "code",
   "execution_count": 16,
   "id": "ad974223-a61d-46b1-8216-eacc0f31cc1a",
   "metadata": {},
   "outputs": [],
   "source": [
    "from retraction_audit.audit import RetractionLookup\n",
    "import os\n",
    "\n",
    "os.environ[\"RETRACTION_WATCH_EMAIL\"] = \"james.sharpsteen@gmail.com\"\n",
    "os.environ[\"NCBI_AUTH_EMAIL\"] = \"james.sharpsteen@gmail.com\"\n",
    "\n",
    "lookup = RetractionLookup(True)"
   ]
  },
  {
   "cell_type": "code",
   "execution_count": 61,
   "id": "76ac1ffe-ca36-4a42-b9e9-16634b8713ed",
   "metadata": {},
   "outputs": [],
   "source": [
    "from wags_tails import CustomData\n",
    "\n",
    "data_files = {}\n",
    "for data_type in (\n",
    "    \"fusion\", \"structuralvariants\", \"resistancemutations\",\n",
    "    \"noncodingvariants\", \"breakpoints\", \"hallmarksofcancer\",\n",
    "    \"completetargetedscreensmutant\", \"genomescreensmutant\",\n",
    "    \"mutantcensus\"\n",
    "):\n",
    "    data_fetcher = CustomData(\n",
    "        \"cosmic\",\n",
    "        \"tsv\",\n",
    "        lambda: \"v99\",\n",
    "        lambda version, outfile_path: None,\n",
    "        file_name=f\"cosmic_{data_type}_grch38\"\n",
    "    )\n",
    "    file = data_fetcher.get_latest(from_local=True)[0]\n",
    "    data_files[data_type] = file"
   ]
  },
  {
   "cell_type": "code",
   "execution_count": 62,
   "id": "dc6d87be-2bfd-4ba9-bce7-04279a4677e4",
   "metadata": {},
   "outputs": [],
   "source": [
    "import polars as pl\n",
    "pmids = []\n",
    "\n",
    "for data_type, data_file in data_files.items():\n",
    "    csv = pl.read_csv(\n",
    "        data_file, \n",
    "        separator=\"\\t\", \n",
    "        ignore_errors=True\n",
    "    )\n",
    "    pmids += list(csv[\"PUBMED_PMID\"].cast(str).unique())\n",
    "pmids = list(set(pmids))"
   ]
  },
  {
   "cell_type": "code",
   "execution_count": 63,
   "id": "f0b7c395-3d92-49d2-bc07-c2cf93f15077",
   "metadata": {},
   "outputs": [],
   "source": [
    "retracted_ev = []\n",
    "for pmid in pmids:\n",
    "    retraction_record = lookup.get_retraction_by_pmid(str(pmid))\n",
    "    if retraction_record:\n",
    "        retracted_ev.append(retraction_record)"
   ]
  },
  {
   "cell_type": "code",
   "execution_count": 64,
   "id": "c36f6f81-b637-4766-9eff-6098975e0980",
   "metadata": {},
   "outputs": [
    {
     "name": "stdout",
     "output_type": "stream",
     "text": [
      "15\n"
     ]
    },
    {
     "data": {
      "text/plain": [
       "[('CIViC', 1, 3667, '2024-03-15T00:03:17.308166+00:00'),\n",
       " ('DGIDB', 20, 11403, '2024-03-15T00:08:13.144921+00:00'),\n",
       " ('PMKB', 0, 1562, '2024-03-15T01:45:21.760435+00:00'),\n",
       " ('PharmGKB', 2, 17150, '2024-03-15T13:35:38.913493+00:00'),\n",
       " ('DOKB', 2, 4318, '2024-03-15T14:38:21.085659+00:00'),\n",
       " ('MOAlmanac', 0, 166, '2024-03-17T00:31:14.361317+00:00'),\n",
       " ('Gene2Phenotype', 4, 8369, '2024-03-19T01:35:50.498899+00:00'),\n",
       " ('COSMIC', 15, 20600, '2024-03-19T13:15:43.634143+00:00')]"
      ]
     },
     "execution_count": 64,
     "metadata": {},
     "output_type": "execute_result"
    }
   ],
   "source": [
    "print(len(retracted_ev))\n",
    "from tools import store_results, get_latest_results\n",
    "store_results(\"COSMIC\", len(retracted_ev), retracted_ev, len(pmids))\n",
    "get_latest_results()"
   ]
  },
  {
   "cell_type": "code",
   "execution_count": 65,
   "id": "8a88275b-0945-419d-8b7f-b2c3944d7f07",
   "metadata": {},
   "outputs": [
    {
     "data": {
      "text/plain": [
       "[RetractionData(pmid='30237408', doi='10.1038/s41419-018-0978-y', article_title='miR-665 promotes hepatocellular carcinoma cell migration, invasion, and proliferation by decreasing Hippo signaling through targeting PTPRB', journal='Cell Death & Disease', authors=['Yuanchang Hu', 'Chao Yang', 'Shikun Yang', 'Feng Cheng', 'Jianhua Rao', 'Xuehao Wang'], retraction_watch_refs=[], retraction_doi='10.1038/s41419-023-05654-x', retraction_pmid='36759596', retraction_reasons=['Duplication of Image', 'Informed/Patient Consent - None/Withdrawn', 'Unreliable Data', 'Unreliable Results'], retraction_type=<FlagType.RETRACTED: 'Retraction'>),\n",
       " RetractionData(pmid='24968753', doi='10.3892/ijmm.2014.1823', article_title='Downregulation of ROSâ\\x80\\x91FIG inhibits cell proliferation, colonyâ\\x80\\x91formation, cell cycle progression, migration and invasion, while inducing apoptosis in intrahepatic cholangiocarcinoma cells', journal='International Journal of Molecular Medicine', authors=['Gang Deng', 'Chenghuan Hu', 'Lei Zhu', 'Feizhou Huang', 'Wei Huang', 'Hongbo Xu', 'Wanpin Nie'], retraction_watch_refs=[], retraction_doi='10.3892/ijmm.2023.5335', retraction_pmid='38063269', retraction_reasons=['Author Unresponsive', 'Concerns/Issues About Image', 'Euphemisms for Plagiarism', 'Investigation by Journal/Publisher', 'Investigation by Third Party', 'Paper Mill', 'Plagiarism of Image'], retraction_type=<FlagType.RETRACTED: 'Retraction'>),\n",
       " RetractionData(pmid='30978525', doi='10.1016/j.biopha.2019.108833', article_title='POLD1 deficiency is involved in cognitive function impairment in AD patients and SAMP8 mice', journal='Biomedicine & Pharmacotherapy', authors=['Shichao Gao', 'Xiaomin Zhang', 'Qiao Song', 'JIng Liu', 'Xunming Ji', 'Peichang Wang'], retraction_watch_refs=[], retraction_doi='10.1016/j.biopha.2023.114276', retraction_pmid='36725468', retraction_reasons=['Author Unresponsive', 'Duplication of Image'], retraction_type=<FlagType.RETRACTED: 'Retraction'>),\n",
       " RetractionData(pmid='12082091', doi='10.1074/jbc.M201147200', article_title='BRCA1-induced apoptosis involves inactivation of ERK1/2 activities', journal='The Journal of Biological Chemistry', authors=['Ying Yan', 'John P Haas', 'Magdalene K Sgagias', 'Kenneth H Cowan'], retraction_watch_refs=[], retraction_doi='10.1074/jbc.W119.009053', retraction_pmid='31101659', retraction_reasons=['Duplication of Image', 'Error in Image'], retraction_type=<FlagType.RETRACTED: 'Retraction'>),\n",
       " RetractionData(pmid='29060929', doi='10.3233/CBM-170310', article_title='MicroRNA-937 inhibits cell proliferation and metastasis in gastric cancer cells by downregulating FOXL2', journal='Cancer Biomarkers', authors=['Liang Yu', 'Jun Chen', 'Yu Liu', 'Zengfeng Zhang', 'Shaobin Duan'], retraction_watch_refs=[], retraction_doi='10.3233/CBM-200903', retraction_pmid='32831195', retraction_reasons=['Investigation by Third Party', 'Notice - Limited or No Information', 'Paper Mill', 'Withdrawal'], retraction_type=<FlagType.RETRACTED: 'Retraction'>),\n",
       " RetractionData(pmid='21556771', doi='10.1007/s11033-011-0731-4', article_title='The effect of aging on the DNA damage and repair capacity in 2BScells undergoing oxidative stress', journal='Molecular Biology Reports', authors=['Jin Ling Wang', 'Pei Chang Wang'], retraction_watch_refs=[], retraction_doi='10.1007/s11033-022-08097-3', retraction_pmid='36639524', retraction_reasons=['Concerns/Issues About Data', 'Concerns/Issues About Image', 'Concerns/Issues About Results'], retraction_type=<FlagType.CONCERNED: 'Expression of concern'>),\n",
       " RetractionData(pmid='26879601', doi='10.1186/s12885-016-2154-z', article_title='BCORL1 is an independent prognostic marker and contributes to cell migration and invasion in human hepatocellular carcinoma', journal='BMC Cancer', authors=['Guozhi Yin', 'Zhikui Liu', 'Yufeng Wang', 'Changwei Dou', 'Chao Li', 'Yingmin Yao', 'Qingguang Liu', 'Kangsheng Tu'], retraction_watch_refs=[], retraction_doi='10.1186/s12885-023-11051-6', retraction_pmid='37312101', retraction_reasons=['Duplication of Image', 'Unreliable Data'], retraction_type=<FlagType.RETRACTED: 'Retraction'>),\n",
       " RetractionData(pmid='32151962', doi='10.1016/j.intimp.2020.106220', article_title='MLL1 promotes migration and invasion of fibroblast-like synoviocytes in rheumatoid arthritis by activating the TRIF/NF-ÎºB signaling pathway via H3K4me3 enrichment in the TLR4 promoter region', journal='International Immunopharmacology', authors=['Yandong Zhang', 'Tiefeng Ji', 'Shu Ma', 'Wei Wu'], retraction_watch_refs=[], retraction_doi='10.1016/j.intimp.2023.109869', retraction_pmid='36822092', retraction_reasons=['Author Unresponsive', 'Concerns/Issues About Authorship', 'Concerns/Issues About Image', 'Investigation by Journal/Publisher', 'Original Data not Provided'], retraction_type=<FlagType.RETRACTED: 'Retraction'>),\n",
       " RetractionData(pmid='31456644', doi='10.2147/OTT.S198750', article_title='GATA1 Gene Silencing Inhibits Invasion, Proliferation and Migration of Cholangiocarcinoma Stem Cells via Disrupting the PI3K/AKT Pathway', journal='OncoTargets and Therapy', authors=['Guang Shi', 'Hong Zhang', 'Qiong Yu', 'Chunmei Hu', 'Youbo Ji'], retraction_watch_refs=[], retraction_doi='10.2147/OTT.S305322', retraction_pmid='33603406', retraction_reasons=['Manipulation of Images', 'Unreliable Results'], retraction_type=<FlagType.RETRACTED: 'Retraction'>),\n",
       " RetractionData(pmid='24059746', doi='10.1186/1471-2407-13-433', article_title='Critical role of CCDC6 in the neoplastic growth of testicular germ cell tumors', journal='BMC Cancer', authors=['Stefanio Staibano', 'Gennaro Ilardi', 'Vincenza Leone', 'Chiara Luise', 'Francesco Merolla', 'Francesco Esposito', 'Francesco Morra', 'Maria Siano', 'Renato Franco', 'Alfredo Fusco', 'Paolo Chieffi', 'Angela Celetti'], retraction_watch_refs=['http://retractionwatch.com/?s=%22alfredo+fusco%22'], retraction_doi='10.1186/s12885-021-07810-y', retraction_pmid='33504337', retraction_reasons=['Duplication of Image', 'Unreliable Results'], retraction_type=<FlagType.RETRACTED: 'Retraction'>),\n",
       " RetractionData(pmid='26134491', doi='10.3892/or.2015.4101', article_title='miRâ\\x80\\x91133a inhibits cervical cancer growth by targeting EGFR', journal='Oncology Reports', authors=['Xuesong Song', 'Bo Shi', 'Kexin Huang', 'Wenjie Zhang'], retraction_watch_refs=[], retraction_doi='10.3892/or.2021.8103', retraction_pmid='34080664', retraction_reasons=['Duplication of Data', 'Duplication of Image', 'Investigation by Third Party', 'Paper Mill'], retraction_type=<FlagType.RETRACTED: 'Retraction'>),\n",
       " RetractionData(pmid='25326893', doi='10.1007/s12035-014-8935-y', article_title='CXCR4 Signaling Induced Epithelial-Mesenchymal Transition by PI3K/AKT and ERK Pathways in Glioblastoma', journal='Molecular Neurobiology', authors=['Baoyu Lv', 'Xiangshan Yang', 'Shunzeng Lv', 'Lei Wang', 'Kaixi Fan', 'Ranran Shi', 'Fengling Wang', 'Huishu Song', 'Xiaochen Ma', 'Xuefen Tan', 'Kun Xu', 'Jingjing Xie', 'Guangmei Wang', 'Man Feng', 'Li Zhang'], retraction_watch_refs=['http://retractionwatch.com/2017/06/14/springer-purge-fake-reviews-takes-10-neuroscience-papers/'], retraction_doi='10.1007/s12035-017-0464-z', retraction_pmid='28244004', retraction_reasons=['Euphemisms for Duplication', 'False/Forged Authorship', 'Fake Peer Review'], retraction_type=<FlagType.RETRACTED: 'Retraction'>),\n",
       " RetractionData(pmid='29286169', doi='10.3892/or.2017.6157', article_title='Function of miRâ\\x80\\x91152 as tumor suppressor in oral squamous cell carcinoma cells by targeting câ\\x80\\x91MET', journal='Oncology Reports', authors=['Minghe Li', 'Zhihong Li', 'Xue Wang', 'Yumei Wang', 'Cong Zhao', 'Lei Wang'], retraction_watch_refs=[], retraction_doi='10.3892/or.2022.8254', retraction_pmid='34981820', retraction_reasons=['Concerns/Issues About Data', 'Duplication of Image', 'Investigation by Third Party', 'Paper Mill', 'Results Not Reproducible'], retraction_type=<FlagType.RETRACTED: 'Retraction'>),\n",
       " RetractionData(pmid='33159025', doi='10.4103/aja.aja_60_20', article_title='TGF-Î²1-regulated miR-3691-3p targets E2F3 and PRDM1 to inhibit prostate cancer progression', journal='Asian Journal of Andrology', authors=['Yue Mei Hu', 'Xiao Li Lou', 'Bao Zhu Liu', 'Li Sun', 'Shan Wan', 'Lei Wu', 'Xin Zhao', 'Qing Zhou', 'Mao Min Sun', 'Kun Tao', 'Yong Sheng Zhang', 'Shou Li Wang'], retraction_watch_refs=[], retraction_doi='10.4103/aja202285', retraction_pmid='36254891', retraction_reasons=['Error in Image', 'Original Data not Provided'], retraction_type=<FlagType.RETRACTED: 'Retraction'>),\n",
       " RetractionData(pmid='18286198', doi='10.1371/journal.pone.0001643', article_title='A Cross-Talk between TrkB and Ret Tyrosine Kinases Receptors Mediates Neuroblastoma Cells Differentiation', journal='PLoS One', authors=['Carla Lucia Esposito', \"Amelia D'Alessio\", 'Vittorio de Franciscis', 'Laura Cerchia'], retraction_watch_refs=[], retraction_doi='10.1371/journal.pone.0267929', retraction_pmid='35476725', retraction_reasons=['Duplication of Image', 'Manipulation of Images', 'Original Data not Provided'], retraction_type=<FlagType.RETRACTED: 'Retraction'>)]"
      ]
     },
     "execution_count": 65,
     "metadata": {},
     "output_type": "execute_result"
    }
   ],
   "source": [
    "retracted_ev"
   ]
  },
  {
   "cell_type": "code",
   "execution_count": null,
   "id": "4327e0f9-038f-4f79-90aa-210490efb0f3",
   "metadata": {},
   "outputs": [],
   "source": []
  }
 ],
 "metadata": {
  "kernelspec": {
   "display_name": "retraction",
   "language": "python",
   "name": "retraction"
  },
  "language_info": {
   "codemirror_mode": {
    "name": "ipython",
    "version": 3
   },
   "file_extension": ".py",
   "mimetype": "text/x-python",
   "name": "python",
   "nbconvert_exporter": "python",
   "pygments_lexer": "ipython3",
   "version": "3.12.0"
  }
 },
 "nbformat": 4,
 "nbformat_minor": 5
}
