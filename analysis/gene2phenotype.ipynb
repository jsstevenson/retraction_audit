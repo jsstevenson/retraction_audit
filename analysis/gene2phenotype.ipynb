{
 "cells": [
  {
   "cell_type": "markdown",
   "id": "d0a655a8-f91e-4f90-a43b-a87f262b33e7",
   "metadata": {},
   "source": [
    "Thormann A, Halachev M, McLaren W, et al. **Flexible and scalable diagnostic filtering of genomic variants using G2P with Ensembl VEP**. Nature Communications. 2019 May;10(1):2373. DOI: 10.1038/s41467-019-10016-3. PMID: 31147538; PMCID: PMC6542828. "
   ]
  },
  {
   "cell_type": "markdown",
   "id": "68287dc1-658d-4ecb-bbfc-2a3423bcfa06",
   "metadata": {},
   "source": [
    "### TODO\n",
    "\n",
    "* Use all G2ph data instead of just cancer"
   ]
  },
  {
   "cell_type": "code",
   "execution_count": 1,
   "id": "a7f7d7e6-ec23-4d90-9029-bb3cdb1f95ac",
   "metadata": {},
   "outputs": [],
   "source": [
    "from retraction_audit.audit import RetractionLookup\n",
    "import os\n",
    "\n",
    "os.environ[\"RETRACTION_WATCH_EMAIL\"] = \"james.sharpsteen@gmail.com\"\n",
    "os.environ[\"NCBI_AUTH_EMAIL\"] = \"james.sharpsteen@gmail.com\"\n",
    "\n",
    "lookup = RetractionLookup(True)"
   ]
  },
  {
   "cell_type": "code",
   "execution_count": 3,
   "id": "0e55d2aa-8c38-4a5f-aa8a-f534af24540d",
   "metadata": {},
   "outputs": [
    {
     "name": "stdout",
     "output_type": "stream",
     "text": [
      "Downloading CardiacG2P.csv.gz...\n"
     ]
    },
    {
     "name": "stderr",
     "output_type": "stream",
     "text": [
      "100%|██████████████████████████████████████| 35.2k/35.2k [00:00<00:00, 91.0kB/s]\n"
     ]
    },
    {
     "name": "stdout",
     "output_type": "stream",
     "text": [
      "Downloading DDG2P.csv.gz...\n"
     ]
    },
    {
     "name": "stderr",
     "output_type": "stream",
     "text": [
      "100%|█████████████████████████████████████████| 237k/237k [00:01<00:00, 217kB/s]\n"
     ]
    },
    {
     "name": "stdout",
     "output_type": "stream",
     "text": [
      "Downloading EyeG2P.csv.gz...\n"
     ]
    },
    {
     "name": "stderr",
     "output_type": "stream",
     "text": [
      "100%|███████████████████████████████████████| 73.0k/73.0k [00:00<00:00, 213kB/s]\n"
     ]
    },
    {
     "name": "stdout",
     "output_type": "stream",
     "text": [
      "Downloading SkeletalG2P.csv.gz...\n"
     ]
    },
    {
     "name": "stderr",
     "output_type": "stream",
     "text": [
      "100%|███████████████████████████████████████| 44.2k/44.2k [00:00<00:00, 410kB/s]\n"
     ]
    },
    {
     "name": "stdout",
     "output_type": "stream",
     "text": [
      "Downloading SkinG2P.csv.gz...\n"
     ]
    },
    {
     "name": "stderr",
     "output_type": "stream",
     "text": [
      "100%|███████████████████████████████████████| 54.6k/54.6k [00:00<00:00, 133kB/s]\n"
     ]
    }
   ],
   "source": [
    "from wags_tails import CustomData\n",
    "from wags_tails.utils.downloads import handle_gzip, download_http\n",
    "from wags_tails.utils.versioning import DATE_VERSION_PATTERN\n",
    "import requests\n",
    "import datetime\n",
    "import json\n",
    "import polars as pl\n",
    "from datetime import datetime, timezone\n",
    "\n",
    "def _latest_version_cb() -> str:\n",
    "    return datetime.now(tz=timezone.utc).strftime(DATE_VERSION_PATTERN)\n",
    "\n",
    "_tqdm_params = {\n",
    "    \"disable\": False,\n",
    "    \"unit\": \"B\",\n",
    "    \"ncols\": 80,\n",
    "    \"unit_divisor\": 1024,\n",
    "    \"unit_scale\": True,\n",
    "}\n",
    "\n",
    "\n",
    "data_files = []\n",
    "for datatype in (\"Cancer\", \"Cardiac\", \"DD\", \"Eye\", \"Skeletal\", \"Skin\"):\n",
    "    def _download_cb(version, outfile_path) -> None:\n",
    "        download_http(\n",
    "            f\"https://www.ebi.ac.uk/gene2phenotype/downloads/{datatype}G2P.csv.gz\",\n",
    "            outfile_path,\n",
    "            tqdm_params=_tqdm_params,\n",
    "            handler=handle_gzip\n",
    "        )\n",
    "    data_fetcher = CustomData(\n",
    "        \"gene2phenotype\",\n",
    "        \"csv\",\n",
    "        _latest_version_cb,\n",
    "        _download_cb,\n",
    "        file_name=f\"gene2phenotype_{datatype.lower()}\"\n",
    "    )\n",
    "    \n",
    "    g2ph = data_fetcher.get_latest()[0]\n",
    "    data_files.append(g2ph)"
   ]
  },
  {
   "cell_type": "code",
   "execution_count": 10,
   "id": "5ae320f0-fe86-49f4-a502-3e968ab8532a",
   "metadata": {},
   "outputs": [],
   "source": [
    "pmids = []\n",
    "\n",
    "for file in data_files:\n",
    "    data = pl.read_csv(file, null_values=[\"No gene mim\", \"No disease mim\"])\n",
    "    file_pmids = list(data[\"pmids\"].str.split(\";\").explode())\n",
    "    pmids += file_pmids\n",
    "\n",
    "pmids = list(set(pmids))"
   ]
  },
  {
   "cell_type": "code",
   "execution_count": 18,
   "id": "e996d63e-2704-49f3-b531-9595b5db9ae6",
   "metadata": {},
   "outputs": [],
   "source": [
    "retracted_ev = []\n",
    "for pmid in pmids:\n",
    "    retraction_record = lookup.get_retraction_by_pmid(str(pmid))\n",
    "    if retraction_record:\n",
    "        retracted_ev.append(retraction_record)"
   ]
  },
  {
   "cell_type": "code",
   "execution_count": 19,
   "id": "d38368ee-dfb6-47d3-ae00-923e395fe29d",
   "metadata": {},
   "outputs": [
    {
     "name": "stdout",
     "output_type": "stream",
     "text": [
      "4\n"
     ]
    },
    {
     "data": {
      "text/plain": [
       "[('CIViC', 1, 3667, '2024-03-15T00:03:17.308166+00:00'),\n",
       " ('DGIDB', 20, 11403, '2024-03-15T00:08:13.144921+00:00'),\n",
       " ('PMKB', 0, 1562, '2024-03-15T01:45:21.760435+00:00'),\n",
       " ('PharmGKB', 2, 17150, '2024-03-15T13:35:38.913493+00:00'),\n",
       " ('DOKB', 2, 4318, '2024-03-15T14:38:21.085659+00:00'),\n",
       " ('MOAlmanac', 0, 166, '2024-03-17T00:31:14.361317+00:00'),\n",
       " ('COSMIC', 15, 20600, '2024-03-19T13:15:43.634143+00:00'),\n",
       " ('Gene2Phenotype', 4, 8369, '2024-03-19T13:24:01.323836+00:00')]"
      ]
     },
     "execution_count": 19,
     "metadata": {},
     "output_type": "execute_result"
    }
   ],
   "source": [
    "print(len(retracted_ev))\n",
    "from tools import store_results, get_latest_results\n",
    "store_results(\"Gene2Phenotype\", len(retracted_ev), retracted_ev, len(pmids))\n",
    "get_latest_results()"
   ]
  },
  {
   "cell_type": "code",
   "execution_count": 20,
   "id": "2b25807e-7f9a-43d2-bdb6-1734bd681366",
   "metadata": {},
   "outputs": [
    {
     "data": {
      "text/plain": [
       "[RetractionData(pmid='21665000', doi='10.1016/j.ajhg.2011.05.009', article_title='A BLOC-1 Mutation Screen Reveals that PLDN Is Mutated in Hermansky-Pudlak Syndrome Type 9', journal='American Journal of Human Genetics', authors=['Andrew R Cullinane', 'James A Curry', 'Carmelo Carmona-Rivera', 'C Gail Summers', 'Carla Ciccone', 'Nicholas D Cardillo', 'Heidi M Dorward', 'Richard A Hess', 'James G White', 'David R Adams', 'Marjan Huizing', 'William A Gahl'], retraction_watch_refs=['http://retractionwatch.com/2017/05/16/journal-retracts-paper-eight-months-u-s-feds-announce-findings-misconduct/', 'http://retractionwatch.com/2016/08/30/former-nih-postdoc-doctored-data/'], retraction_doi='10.1016/j.ajhg.2017.04.011', retraction_pmid='28475864', retraction_reasons=['Duplication of Image', 'Falsification/Fabrication of Results', 'Investigation by ORI', 'Misconduct - Official Investigation/Finding', 'Misconduct by Author'], retraction_type=<FlagType.RETRACTED: 'Retraction'>),\n",
       " RetractionData(pmid='9096355', doi='10.1073/pnas.94.7.3116', article_title='A common mutational pattern in Cockayne syndrome patients from xeroderma pigmentosum group G: Implications for a second XPG function', journal='PNAS: Proceedings of the National Academy of Sciences of the United States of America', authors=['Thierry Nouspikel', 'Phillipe Lalle', 'Steven Anthony Leadon', 'Priscilla K Cooper', 'Stuart G Clarkson'], retraction_watch_refs=[], retraction_doi='10.1073/pnas.0609759103', retraction_pmid='17179216', retraction_reasons=['Falsification/Fabrication of Data', 'Falsification/Fabrication of Results', 'Investigation by Company/Institution', 'Investigation by ORI', 'Misconduct - Official Investigation/Finding', 'Misconduct by Author'], retraction_type=<FlagType.RETRACTED: 'Retraction'>),\n",
       " RetractionData(pmid='20697107', doi='10.1212/WNL.0b013e3181ec7fbd', article_title='Dominant-negative effects of a novel mutation in the filamin myopathy', journal='Neurology', authors=['Satoshi Kono', 'T Nishio', 'Y Takahashi', 'N Goto-Inoue', 'M Kinoshita', 'N Zaima', 'H Suzuki', 'A Fukutoku-Otsuji', 'M Setou', 'Hiroaki Miyajima'], retraction_watch_refs=['http://retractionwatch.com/2010/12/10/a-retraction-in-neurology-highlights-an-unusual-practice/'], retraction_doi='10.1212/WNL.0b013e3182033dbf', retraction_pmid='21135394', retraction_reasons=['Error in Analyses', 'Error in Results and/or Conclusions'], retraction_type=<FlagType.RETRACTED: 'Retraction'>),\n",
       " RetractionData(pmid='28115293', doi='10.1016/j.jaapos.2016.09.030', article_title='Foveal hypoplasia in short stature with optic atrophy and Pelger-HuÃ«t anomaly syndrome with neuroblastoma-amplified sequence (NBAS) gene mutation', journal='Journal of American Association for Pediatric Ophthalmology and Strabismus', authors=['Jun Woo Park', 'Soo Jung Lee'], retraction_watch_refs=[], retraction_doi='10.1016/j.jaapos.2018.04.002', retraction_pmid='29680787', retraction_reasons=['Complaints about Author', 'Copyright Claims', 'Objections by Third Party'], retraction_type=<FlagType.CONCERNED: 'Expression of concern'>)]"
      ]
     },
     "execution_count": 20,
     "metadata": {},
     "output_type": "execute_result"
    }
   ],
   "source": [
    "retracted_ev"
   ]
  },
  {
   "cell_type": "code",
   "execution_count": null,
   "id": "23c908f1-a215-431e-9f4f-aa48ffa01cfe",
   "metadata": {},
   "outputs": [],
   "source": []
  }
 ],
 "metadata": {
  "kernelspec": {
   "display_name": "retraction",
   "language": "python",
   "name": "retraction"
  },
  "language_info": {
   "codemirror_mode": {
    "name": "ipython",
    "version": 3
   },
   "file_extension": ".py",
   "mimetype": "text/x-python",
   "name": "python",
   "nbconvert_exporter": "python",
   "pygments_lexer": "ipython3",
   "version": "3.12.0"
  }
 },
 "nbformat": 4,
 "nbformat_minor": 5
}
