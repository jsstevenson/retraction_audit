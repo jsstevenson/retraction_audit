{
 "cells": [
  {
   "cell_type": "code",
   "execution_count": 1,
   "id": "bea230cb-9a31-4e8e-8c11-939eb01a8ef4",
   "metadata": {},
   "outputs": [],
   "source": [
    "from retraction_audit.audit import RetractionLookup\n",
    "import os\n",
    "\n",
    "os.environ[\"RETRACTION_WATCH_EMAIL\"] = \"james.sharpsteen@gmail.com\"\n",
    "\n",
    "retraction_lookup = RetractionLookup(True)"
   ]
  },
  {
   "cell_type": "code",
   "execution_count": null,
   "id": "f8ae54ae-d7e6-4feb-8b16-a99096352d64",
   "metadata": {},
   "outputs": [],
   "source": [
    "from wags_tails import CustomData\n",
    "from wags_tails.utils.downloads import handle_zip, download_http\n",
    "from datetime import datetime, timezone\n",
    "\n",
    "def _latest_version_cb() -> str:\n",
    "    return \"\"\n",
    "\n",
    "def _download_cb(version, outfile_path) -> None:\n",
    "    tqdm_params = {\n",
    "        \"disable\": False,\n",
    "        \"unit\": \"B\",\n",
    "        \"ncols\": 80,\n",
    "        \"unit_divisor\": 1024,\n",
    "        \"unit_scale\": True,\n",
    "    }\n",
    "    download_http(\n",
    "        \"https://bio.liclab.net/ENdb/file/download/ENdb_enhancer.txt\",\n",
    "        outfile_path,\n",
    "        tqdm_params=tqdm_params,\n",
    "    )\n",
    "\n",
    "data_fetcher = CustomData(\n",
    "    \"ncrnadrug\",\n",
    "    \"txt\",\n",
    "    _latest_version_cb,\n",
    "    _download_cb,\n",
    ")\n",
    "\n",
    "endb_data = data_fetcher.get_latest()"
   ]
  }
 ],
 "metadata": {
  "kernelspec": {
   "display_name": "retraction",
   "language": "python",
   "name": "retraction"
  },
  "language_info": {
   "codemirror_mode": {
    "name": "ipython",
    "version": 3
   },
   "file_extension": ".py",
   "mimetype": "text/x-python",
   "name": "python",
   "nbconvert_exporter": "python",
   "pygments_lexer": "ipython3",
   "version": "3.12.0"
  }
 },
 "nbformat": 4,
 "nbformat_minor": 5
}
