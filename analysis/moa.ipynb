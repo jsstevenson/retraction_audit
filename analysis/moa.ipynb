{
 "cells": [
  {
   "cell_type": "code",
   "execution_count": 1,
   "id": "d528d5e8-5686-4b89-9729-2459a00ce09a",
   "metadata": {},
   "outputs": [],
   "source": [
    "from retraction_audit.audit import RetractionLookup\n",
    "import os\n",
    "\n",
    "os.environ[\"RETRACTION_WATCH_EMAIL\"] = \"james.sharpsteen@gmail.com\"\n",
    "os.environ[\"NCBI_AUTH_EMAIL\"] = \"james.sharpsteen@gmail.com\"\n",
    "\n",
    "lookup = RetractionLookup(True)"
   ]
  },
  {
   "cell_type": "code",
   "execution_count": 18,
   "id": "3814f36b-679e-496c-b45f-0d9216f15651",
   "metadata": {},
   "outputs": [],
   "source": [
    "from wags_tails import CustomData\n",
    "from wags_tails.utils.downloads import handle_zip, download_http\n",
    "from wags_tails.utils.versioning import DATE_VERSION_PATTERN\n",
    "import requests\n",
    "import datetime\n",
    "import json\n",
    "\n",
    "def _latest_version_cb() -> str:\n",
    "    url = f\"https://api.github.com/repos/vanallenlab/moalmanac-db/releases\"\n",
    "    response = requests.get(url)\n",
    "    response.raise_for_status()\n",
    "    data = response.json()\n",
    "    return datetime.datetime.strptime(data[0][\"tag_name\"], \"v.%Y-%m-%d\").replace(tzinfo=datetime.timezone.utc).strftime(DATE_VERSION_PATTERN)\n",
    "    \n",
    "def _download_cb(version, outfile_path) -> None:\n",
    "    tqdm_params = {\n",
    "        \"disable\": False,\n",
    "        \"unit\": \"B\",\n",
    "        \"ncols\": 80,\n",
    "        \"unit_divisor\": 1024,\n",
    "        \"unit_scale\": True,\n",
    "    }\n",
    "    formatted_version = datetime.datetime.strptime(version, DATE_VERSION_PATTERN).replace(tzinfo=datetime.timezone.utc).strftime(\"v.%Y-%m-%d\")\n",
    "    download_http(\n",
    "        f\"https://github.com/vanallenlab/moalmanac-db/archive/refs/tags/{formatted_version}.zip\",\n",
    "        outfile_path,\n",
    "        tqdm_params=tqdm_params,\n",
    "        handler=handle_zip\n",
    "    )\n",
    "    pass\n",
    "    \n",
    "data_fetcher = CustomData(\n",
    "    \"moalmanac\",\n",
    "    \"json\",\n",
    "    _latest_version_cb,\n",
    "    _download_cb,\n",
    ")\n",
    "\n",
    "moa = data_fetcher.get_latest()[0]\n",
    "with open(moa) as f:\n",
    "    data = json.load(f)"
   ]
  },
  {
   "cell_type": "code",
   "execution_count": 19,
   "id": "8170017b-1005-4886-86e9-8fdc9cfaacab",
   "metadata": {},
   "outputs": [],
   "source": [
    "pmids = {d[\"pmid\"] for d in data} - {\"\"}"
   ]
  },
  {
   "cell_type": "code",
   "execution_count": 20,
   "id": "5b142051-d080-451d-b619-f4fa23cebab3",
   "metadata": {},
   "outputs": [],
   "source": [
    "retracted_ev = []\n",
    "for pmid in pmids:\n",
    "    retraction_record = lookup.get_retraction_by_pmid(str(pmid))\n",
    "    if retraction_record:\n",
    "        retracted_ev.append(retraction_record)"
   ]
  },
  {
   "cell_type": "code",
   "execution_count": 21,
   "id": "219be0b8-471e-4e5d-9617-83c424c6285c",
   "metadata": {},
   "outputs": [
    {
     "name": "stdout",
     "output_type": "stream",
     "text": [
      "0\n"
     ]
    },
    {
     "data": {
      "text/plain": [
       "[('CIViC', 1, 3667, '2024-03-15T00:03:17.308166+00:00'),\n",
       " ('DGIDB', 20, 11403, '2024-03-15T00:08:13.144921+00:00'),\n",
       " ('PMKB', 0, 1562, '2024-03-15T01:45:21.760435+00:00'),\n",
       " ('PharmGKB', 2, 17150, '2024-03-15T13:35:38.913493+00:00'),\n",
       " ('DOKB', 2, 4318, '2024-03-15T14:38:21.085659+00:00'),\n",
       " ('MOAlmanac', 0, 166, '2024-03-17T00:31:14.361317+00:00')]"
      ]
     },
     "execution_count": 21,
     "metadata": {},
     "output_type": "execute_result"
    }
   ],
   "source": [
    "print(len(retracted_ev))\n",
    "from tools import store_results, get_latest_results\n",
    "store_results(\"MOAlmanac\", len(retracted_ev), retracted_ev, len(pmids))\n",
    "get_latest_results()"
   ]
  },
  {
   "cell_type": "code",
   "execution_count": null,
   "id": "5ffd336a-5160-454b-b02c-8b6c2d1a2623",
   "metadata": {},
   "outputs": [],
   "source": []
  }
 ],
 "metadata": {
  "kernelspec": {
   "display_name": "retraction",
   "language": "python",
   "name": "retraction"
  },
  "language_info": {
   "codemirror_mode": {
    "name": "ipython",
    "version": 3
   },
   "file_extension": ".py",
   "mimetype": "text/x-python",
   "name": "python",
   "nbconvert_exporter": "python",
   "pygments_lexer": "ipython3",
   "version": "3.12.0"
  }
 },
 "nbformat": 4,
 "nbformat_minor": 5
}
