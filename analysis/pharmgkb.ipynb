{
 "cells": [
  {
   "cell_type": "code",
   "execution_count": 2,
   "id": "89ab382b-1f40-47c9-b4da-a5a1243fe111",
   "metadata": {},
   "outputs": [],
   "source": [
    "import logging\n",
    "\n",
    "_logger = logging.getLogger(\"retraction_experiments\")\n",
    "logging.basicConfig(\n",
    "    filename=\"retraction_experiments.log\",\n",
    "    format=\"%(asctime)s %(levelname)s:%(name)s:%(message)s\",\n",
    "    level=logging.DEBUG,\n",
    "    force=True,\n",
    ")"
   ]
  },
  {
   "cell_type": "markdown",
   "id": "c3a10493-b944-4a3c-9289-86b38f6d178b",
   "metadata": {},
   "source": [
    "## TODO\n",
    "\n",
    "* Lots of ev just has PA IDs -- should convert back to PMIDs?"
   ]
  },
  {
   "cell_type": "code",
   "execution_count": 3,
   "id": "5e622992-955f-4f2e-85b8-fb9874ff0b1d",
   "metadata": {},
   "outputs": [],
   "source": [
    "from wags_tails import CustomData\n",
    "from wags_tails.utils.downloads import handle_zip, download_http\n",
    "from wags_tails.utils.versioning import DATE_VERSION_PATTERN\n",
    "from datetime import datetime, timezone\n",
    "\n",
    "def _latest_version_cb() -> str:\n",
    "    return datetime.now(tz=timezone.utc).strftime(DATE_VERSION_PATTERN)\n",
    "\n",
    "def _download_cb(version, outfile_path) -> None:\n",
    "        tqdm_params = {\n",
    "            \"disable\": False,\n",
    "            \"unit\": \"B\",\n",
    "            \"ncols\": 80,\n",
    "            \"unit_divisor\": 1024,\n",
    "            \"unit_scale\": True,\n",
    "        }\n",
    "        download_http(\n",
    "            \"https://api.pharmgkb.org/v1/download/file/data/occurrences.zip\",\n",
    "            outfile_path,\n",
    "            handler=handle_zip,\n",
    "            tqdm_params=tqdm_params,\n",
    "        )\n",
    "\n",
    "data_fetcher = CustomData(\n",
    "    \"pharmgkb\",\n",
    "    \"tsv\",\n",
    "    _latest_version_cb,\n",
    "    _download_cb,\n",
    ")\n",
    "\n",
    "pharmgkb_data = data_fetcher.get_latest()"
   ]
  },
  {
   "cell_type": "code",
   "execution_count": 4,
   "id": "94c08c29-5e23-43ca-8633-34e1a0695f18",
   "metadata": {},
   "outputs": [],
   "source": [
    "from retraction_audit.audit import RetractionLookup\n",
    "import os\n",
    "\n",
    "os.environ[\"RETRACTION_WATCH_EMAIL\"] = \"james.sharpsteen@gmail.com\"\n",
    "os.environ[\"NCBI_AUTH_EMAIL\"] = \"james.sharpsteen@gmail.com\"\n",
    "\n",
    "lookup = RetractionLookup(True)"
   ]
  },
  {
   "cell_type": "code",
   "execution_count": 9,
   "id": "096b4a70-5ed0-4483-b0a8-b455c48b0667",
   "metadata": {},
   "outputs": [
    {
     "name": "stderr",
     "output_type": "stream",
     "text": [
      "100%|█████████████████████████████████████████████████████████████████████████████████| 119301/119301 [00:41<00:00, 2863.01it/s]\n"
     ]
    }
   ],
   "source": [
    "import polars as pl\n",
    "from pathlib import Path\n",
    "from tqdm import tqdm\n",
    "from retraction_audit.citation_tools import SqlitePmidCache, get_pmid_from_pmcid\n",
    "\n",
    "df = pl.read_csv(pharmgkb_data[0], separator=\"\\t\")\n",
    "os.environ[\"NCBI_AUTH_EMAIL\"] = \"james.sharpsteen@gmail.com\"\n",
    "\n",
    "pmid_cache = SqlitePmidCache(Path(\"pmid_cache.db\"))\n",
    "pmids = set()\n",
    "\n",
    "for source_id in tqdm(df[\"Source ID\"]):\n",
    "    if source_id.startswith(\"PMID\"):\n",
    "        pmid = source_id[5:]\n",
    "    elif source_id.startswith(\"PMC\"):\n",
    "        try:\n",
    "            pmid = get_pmid_from_pmcid(source_id, pmid_cache)\n",
    "        except KeyError:\n",
    "            _logger.info(\"Unable to find PMID for PMCID %s\", source_id)\n",
    "            continue\n",
    "    else:\n",
    "        _logger.info(\"Unrecognized form of identifier: %s\", source_id)\n",
    "    pmids.add(pmid)"
   ]
  },
  {
   "cell_type": "code",
   "execution_count": 31,
   "id": "f7e45875-5da7-45b6-86bf-17e337fe4e80",
   "metadata": {},
   "outputs": [
    {
     "name": "stdout",
     "output_type": "stream",
     "text": [
      "2\n"
     ]
    }
   ],
   "source": [
    "retracted_ev = []\n",
    "for pmid in pmids:\n",
    "    retraction = lookup.get_retraction_by_pmid(pmid)\n",
    "    if retraction:\n",
    "        retracted_ev.append(retraction)\n",
    "print(len(retracted_ev))"
   ]
  },
  {
   "cell_type": "code",
   "execution_count": 1,
   "id": "ef48d43a-8120-431c-861d-2e559bc7c361",
   "metadata": {},
   "outputs": [
    {
     "ename": "NameError",
     "evalue": "name 'retracted_ev' is not defined",
     "output_type": "error",
     "traceback": [
      "\u001b[0;31m---------------------------------------------------------------------------\u001b[0m",
      "\u001b[0;31mNameError\u001b[0m                                 Traceback (most recent call last)",
      "Cell \u001b[0;32mIn[1], line 1\u001b[0m\n\u001b[0;32m----> 1\u001b[0m \u001b[43mretracted_ev\u001b[49m\n",
      "\u001b[0;31mNameError\u001b[0m: name 'retracted_ev' is not defined"
     ]
    }
   ],
   "source": [
    "retracted_ev"
   ]
  },
  {
   "cell_type": "code",
   "execution_count": 18,
   "id": "aac69bee-917a-4935-a6ea-fe847ecf85c1",
   "metadata": {},
   "outputs": [],
   "source": [
    "from tools import store_results\n",
    "store_results(\"PharmGKB\", len(retracted_ev), retracted_ev, len(pmids))"
   ]
  },
  {
   "cell_type": "code",
   "execution_count": null,
   "id": "769ecc2f-35c6-4ccd-a1e5-a48b2fd8b83c",
   "metadata": {},
   "outputs": [],
   "source": []
  }
 ],
 "metadata": {
  "kernelspec": {
   "display_name": "retraction",
   "language": "python",
   "name": "retraction"
  },
  "language_info": {
   "codemirror_mode": {
    "name": "ipython",
    "version": 3
   },
   "file_extension": ".py",
   "mimetype": "text/x-python",
   "name": "python",
   "nbconvert_exporter": "python",
   "pygments_lexer": "ipython3",
   "version": "3.12.0"
  }
 },
 "nbformat": 4,
 "nbformat_minor": 5
}
